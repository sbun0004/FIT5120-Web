{
 "cells": [
  {
   "cell_type": "code",
   "execution_count": 1,
   "id": "5afc9663",
   "metadata": {},
   "outputs": [
    {
     "ename": "ModuleNotFoundError",
     "evalue": "No module named 'seaborn'",
     "output_type": "error",
     "traceback": [
      "\u001b[1;31m---------------------------------------------------------------------------\u001b[0m",
      "\u001b[1;31mModuleNotFoundError\u001b[0m                       Traceback (most recent call last)",
      "Input \u001b[1;32mIn [1]\u001b[0m, in \u001b[0;36m<cell line: 5>\u001b[1;34m()\u001b[0m\n\u001b[0;32m      3\u001b[0m \u001b[38;5;28;01mimport\u001b[39;00m \u001b[38;5;21;01mmatplotlib\u001b[39;00m\n\u001b[0;32m      4\u001b[0m \u001b[38;5;28;01mimport\u001b[39;00m \u001b[38;5;21;01mmatplotlib\u001b[39;00m\u001b[38;5;21;01m.\u001b[39;00m\u001b[38;5;21;01mpyplot\u001b[39;00m \u001b[38;5;28;01mas\u001b[39;00m \u001b[38;5;21;01mplt\u001b[39;00m\n\u001b[1;32m----> 5\u001b[0m \u001b[38;5;28;01mimport\u001b[39;00m \u001b[38;5;21;01mseaborn\u001b[39;00m \u001b[38;5;28;01mas\u001b[39;00m \u001b[38;5;21;01msns\u001b[39;00m\n\u001b[0;32m      6\u001b[0m \u001b[38;5;28;01mimport\u001b[39;00m \u001b[38;5;21;01mplotly\u001b[39;00m\n\u001b[0;32m      7\u001b[0m \u001b[38;5;28;01mimport\u001b[39;00m \u001b[38;5;21;01mplotly\u001b[39;00m\u001b[38;5;21;01m.\u001b[39;00m\u001b[38;5;21;01moffline\u001b[39;00m \u001b[38;5;28;01mas\u001b[39;00m \u001b[38;5;21;01mpy\u001b[39;00m\n",
      "\u001b[1;31mModuleNotFoundError\u001b[0m: No module named 'seaborn'"
     ]
    }
   ],
   "source": [
    "import pandas as pd\n",
    "#visualisation tools\n",
    "import matplotlib\n",
    "import matplotlib.pyplot as plt\n",
    "import seaborn as sns\n",
    "import plotly\n",
    "import plotly.offline as py\n",
    "import plotly.tools as tls\n",
    "import plotly.graph_objs as go\n",
    "import plotly.tools as tls\n",
    "import plotly.express as px\n",
    "\n",
    "df = pd.read_csv('waste_data.csv')\n",
    "df.head()\n",
    "\n",
    "df.isnull().sum()\n",
    "\n",
    "df = df.dropna(how='all')\n",
    "df.head()\n",
    "\n",
    "df['Year'] = df['Reference Year'].astype(str).str[:4]\n",
    "df['Year'].astype(int)\n",
    "\n",
    "\"\"\"##First visualisation\"\"\"\n",
    "\n",
    "recyclecollected = pd.DataFrame(df.groupby(by=['Year'])['Recycling Annual Tonnes Collected'].sum().reset_index())\n",
    "recyclecollected['Year'].astype(int)\n",
    "\n",
    "recycleprocessed = pd.DataFrame(df.groupby(by=['Year'])['Total Annual Tonnes of Waste Processed Sorted'].sum().reset_index())\n",
    "recycleprocessed['Year'].astype(int)\n",
    "\n",
    "fig = go.Figure([\n",
    "    go.Scatter( name='Collected',\n",
    "        x=recyclecollected[\"Year\"],\n",
    "        y=recyclecollected[\"Recycling Annual Tonnes Collected\"],\n",
    "        mode='lines',\n",
    "        marker=dict(color='blue', size=2),\n",
    "        showlegend=True),\n",
    "    go.Scatter( name='Processed',\n",
    "        x=recycleprocessed[\"Year\"],\n",
    "        y=recycleprocessed[\"Total Annual Tonnes of Waste Processed Sorted\"],\n",
    "        mode='lines',\n",
    "        marker=dict(color='red', size=2),\n",
    "        showlegend=True)\n",
    "])\n",
    "fig.update_layout(\n",
    "    xaxis_title='Year',\n",
    "    yaxis_title='Tons',\n",
    "    title='Recycle Collected and Processed From 2001 to 2019',\n",
    "    hovermode=\"x\")\n",
    "\n",
    "fig.write_html(\"Recycle Collected.html\")\n",
    "fig.show()"
   ]
  },
  {
   "cell_type": "code",
   "execution_count": null,
   "id": "b2ee83f2",
   "metadata": {},
   "outputs": [],
   "source": [
    "# Second Visualisation\n",
    "fig = px.line(df,\n",
    "             x=\"Reference Year\", \n",
    "             y=\"Garbage Annual Tonnes Collected\", \n",
    "             color='Local Government',\n",
    "             hover_name=\"Local Government\",\n",
    "             labels = {\n",
    "                 'Reference Year': 'Year'\n",
    "             })\n",
    "\n",
    "# Set title\n",
    "fig.update_layout(\n",
    "    title_text=\"Annual Waste Collected\"\n",
    ")\n",
    "\n",
    "fig.write_html(\"Yearly_waste_plot.html\")\n",
    "fig.show()"
   ]
  },
  {
   "cell_type": "code",
   "execution_count": null,
   "id": "16ff0c9d",
   "metadata": {},
   "outputs": [],
   "source": []
  }
 ],
 "metadata": {
  "kernelspec": {
   "display_name": "Python 3 (ipykernel)",
   "language": "python",
   "name": "python3"
  },
  "language_info": {
   "codemirror_mode": {
    "name": "ipython",
    "version": 3
   },
   "file_extension": ".py",
   "mimetype": "text/x-python",
   "name": "python",
   "nbconvert_exporter": "python",
   "pygments_lexer": "ipython3",
   "version": "3.10.5"
  }
 },
 "nbformat": 4,
 "nbformat_minor": 5
}
